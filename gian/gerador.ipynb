{
 "cells": [
  {
   "cell_type": "code",
   "execution_count": 1,
   "id": "b192c107",
   "metadata": {},
   "outputs": [],
   "source": [
    "from random import randint as rand\n",
    "\n",
    "class Gerador ( object ):\n",
    "\n",
    "    def gen (self, J):\n",
    "        F = rand ( J, 2*J )\n",
    "        L = rand ( 5, 10 )\n",
    "        M = rand ( 5, 10 )\n",
    "        P = rand ( 5, 10 )\n",
    "        D =   [ [ rand(10,20 ) for p in range(P) ] for j in range(J) ]\n",
    "        r = [ [ [ rand( 1, 5 ) for l in range(L) ] for m in range(P) ] for p in range(M) ]\n",
    "        R =   [ [ rand(800,1000) for f in range(F) ] for m in range(M) ]\n",
    "        C =   [ [ rand(80,100) for f in range(F) ] for l in range(L) ]\n",
    "        C_p = [ [ [ rand(10,100) for f in range(F) ] for l in range(L) ] for p in range(P) ]\n",
    "        C_t = [ [ [ rand(10,20 ) for j in range(J) ] for f in range(F) ] for p in range(P) ]\n",
    "\n",
    "        return (J, F, L, M, P, D, r, R, C, C_p, C_t)"
   ]
  }
 ],
 "metadata": {
  "kernelspec": {
   "display_name": "Python 3 (ipykernel)",
   "language": "python",
   "name": "python3"
  },
  "language_info": {
   "codemirror_mode": {
    "name": "ipython",
    "version": 3
   },
   "file_extension": ".py",
   "mimetype": "text/x-python",
   "name": "python",
   "nbconvert_exporter": "python",
   "pygments_lexer": "ipython3",
   "version": "3.9.7"
  }
 },
 "nbformat": 4,
 "nbformat_minor": 5
}
